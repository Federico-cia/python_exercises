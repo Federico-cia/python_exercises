{
 "cells": [
  {
   "cell_type": "markdown",
   "id": "e7a59ad0-309c-4705-a402-dddf5e31bc43",
   "metadata": {},
   "source": [
    "# Classes\n",
    "## Attributes"
   ]
  },
  {
   "cell_type": "markdown",
   "id": "7b13c306-127e-485c-ba11-b89bde51ed21",
   "metadata": {},
   "source": [
    "### Cars catalogue\n",
    "I defined a Car class with brand, year, owner, and weight. I created a small list of cars and read fields back to verify I stored the intended data."
   ]
  },
  {
   "cell_type": "code",
   "execution_count": 177,
   "id": "3ee963c6-65a6-4c8d-9bce-d9e7de95b856",
   "metadata": {},
   "outputs": [
    {
     "name": "stdout",
     "output_type": "stream",
     "text": [
      "200 Jhon\n"
     ]
    }
   ],
   "source": [
    "class Car:            #defining the constructor = function that creates the empty class object\n",
    "    def __init__ (self, car_brand: str, car_year: int, car_owner: str, car_weight: int) -> None:     # defining function __innit__ inside the class (takes 5 argumetns)\n",
    "        self.car_brand: str = car_brand         # __innit__ fills the empty object \"self\" with attributes\n",
    "        self.car_year: int = car_year\n",
    "        self.car_owner: str = car_owner\n",
    "        self.car_weight: int = car_weight\n",
    "\n",
    "c1 = Car(car_brand = \"Honda\", car_year = 2010, car_owner = \"Jhon\", car_weight = 200)   # calling the constructor (takes 4 arguments), we create the object c1\n",
    "c2 = Car(car_brand = \"Fiat\", car_year = 2003, car_owner = \"Daniel\", car_weight = 230)   # calling the constructor (takes 4 arguments), we create the object c1\n",
    "\n",
    "print(c1.car_weight, c1.car_owner)   # we access the attributes/fields of the object c1"
   ]
  },
  {
   "cell_type": "markdown",
   "id": "1dab8de8-cb6d-429e-bcb3-eb7a8b250306",
   "metadata": {},
   "source": [
    "### Patient record\n",
    "I defined a Patient class with ID, gender, first name, and last name. I combined the name parts to confirm the full name I intended is what the object actually holds."
   ]
  },
  {
   "cell_type": "code",
   "execution_count": 44,
   "id": "0636a582-13da-4522-9475-24a97057eb45",
   "metadata": {},
   "outputs": [
    {
     "name": "stdout",
     "output_type": "stream",
     "text": [
      "Red\n"
     ]
    }
   ],
   "source": [
    "class PatientRecord:\n",
    "    def __init__(self, patient_ID: int, patient_gender: str, patient_name: str, patient_surname: str)->None:\n",
    "        self.patient_ID: int = patient_ID\n",
    "        self.patient_gender: str = patient_gender\n",
    "        self.patient_name: str = patient_name\n",
    "        self.patient_surname: str = patient_surname\n",
    "\n",
    "p1 = PatientRecord (patient_ID = 33524, patient_gender = \"Male\", patient_name = \"Robert\", patient_surname = \"White\")\n",
    "p2 = PatientRecord (patient_ID = 54114, patient_gender = \"Female\", patient_name = \"Jessica\", patient_surname = \"Brown\")\n",
    "p3 = PatientRecord (patient_ID = 10047, patient_gender = \"Female\", patient_name = \"Pamela\", patient_surname = \"Smith\")\n",
    "\n",
    "# Check IDs not identical\n",
    "if p1.patient_ID == p2.patient_ID or p1.patient_ID == p3.patient_ID or p2.patient_ID == p3.patient_ID:\n",
    "    print (\"Error: identical IDs\")\n",
    "\n",
    "# Check full names are as expected\n",
    "expected1 = \"Robert White\"\n",
    "expected2 = \"Jessica Brown\"\n",
    "expected3 = \"Pamela Smith\"\n",
    "assert (p1.patient_name + \" \" + p1.patient_surname == expected1)\n",
    "assert (p2.patient_name + \" \" + p2.patient_surname == expected2)\n",
    "assert (p3.patient_name + \" \" + p3.patient_surname == expected3)\n",
    "\n",
    "# Change one surname\n",
    "p1.patient_surname = \"Red\"\n",
    "print(p1.patient_surname)"
   ]
  },
  {
   "cell_type": "markdown",
   "id": "0da8a7b8-8d12-4e86-9a3f-65576dd57d6a",
   "metadata": {},
   "source": [
    "### Bank accounts\n",
    "I defined a BankAccount with owner, currency (default “EUR”), and balance (default 0.0). I instantiated accounts with and without optional arguments and then updated attributes to validate defaults and mutability."
   ]
  },
  {
   "cell_type": "code",
   "execution_count": 67,
   "id": "cd53c3e1-5b86-42e4-a3fe-97d64ce37522",
   "metadata": {},
   "outputs": [
    {
     "name": "stdout",
     "output_type": "stream",
     "text": [
      "Frank EUR 0.0\n",
      "Frank GBP 37.13\n"
     ]
    }
   ],
   "source": [
    "class BankAccount:\n",
    "    def __init__ (self, owner:str, currency: str= \"EUR\", balance:float=0.0) -> None:\n",
    "        self.owner: str = owner\n",
    "        self.currency: str = currency\n",
    "        self.balance: float = balance\n",
    "\n",
    "client_1 = BankAccount(\"Frank\")\n",
    "print (f'{client_1.owner} {client_1.currency} {client_1.balance}')\n",
    "\n",
    "# Updating currency and balance\n",
    "client_1.currency = \"GBP\"\n",
    "client_1.balance = 37.13\n",
    "print (client_1.owner + \" \" + client_1.currency + \" \" + str(client_1.balance))"
   ]
  },
  {
   "cell_type": "markdown",
   "id": "2e19f499-c966-4b9b-8944-5aafd32003d2",
   "metadata": {},
   "source": [
    "### Class vs instance attributes\n",
    "I build a class that distinguishes between class-level attributes (shared by all instances) and instance-level attributes (unique to each object). Changing a class attribute affects all instances unless an instance explicitly overrides it."
   ]
  },
  {
   "cell_type": "code",
   "execution_count": 84,
   "id": "cc74852c-ff5c-4a8b-a04c-a39276228bda",
   "metadata": {},
   "outputs": [
    {
     "name": "stdout",
     "output_type": "stream",
     "text": [
      "Andrea False\n",
      "Andrea True\n",
      "Luca False\n"
     ]
    }
   ],
   "source": [
    "class Prova:\n",
    "    version: str = \"1.0\"\n",
    "    debug: bool = False\n",
    "    def __init__ (self, name) -> None:\n",
    "        self.name = name\n",
    "\n",
    "# Create two instances\n",
    "p1 = Prova(name= \"Andrea\")\n",
    "p2 = Prova(name= \"Michele\")\n",
    "print(p1.name + \" \" +  str(p1.debug))\n",
    "\n",
    "# Change class attribute\n",
    "Prova.debug = True\n",
    "print(p1.name + \" \" + str(p1.debug))\n",
    "\n",
    "# Create instance with attribute different from the class attribute\n",
    "p2 = Prova(name = \"Luca\")\n",
    "p2.debug = False\n",
    "print(p2.name + \" \" + str(p2.debug))"
   ]
  },
  {
   "cell_type": "markdown",
   "id": "cdb2fd04-0657-4409-b8e9-f3543083ea74",
   "metadata": {},
   "source": [
    "### Auto-incrementing IDs\n",
    "I implemented a class that automatically assigns a unique ID to each new instance using a class-level counter. Each object receives a sequential ID starting from 1, and the shared counter increases after every instantiation"
   ]
  },
  {
   "cell_type": "code",
   "execution_count": 101,
   "id": "3f17e655-a1c6-4a78-8984-caa17997f8d0",
   "metadata": {
    "scrolled": true
   },
   "outputs": [
    {
     "name": "stdout",
     "output_type": "stream",
     "text": [
      "1\n",
      "2\n",
      "3\n"
     ]
    }
   ],
   "source": [
    "class Users:\n",
    "    next_ID: int = 1\n",
    "    def __init__ (self, name: str) -> None:\n",
    "        self.name = name\n",
    "        self.user_ID: int = Users.next_ID\n",
    "        Users.next_ID += 1\n",
    "\n",
    "u1 = Users (\"Antonio\")\n",
    "u2 = Users (\"Alice\")\n",
    "u3 = Users (\"Attilio\")\n",
    "\n",
    "print(u1.user_ID)\n",
    "print(u2.user_ID)\n",
    "print(u3.user_ID)"
   ]
  },
  {
   "cell_type": "markdown",
   "id": "063a0009-d673-4661-a25c-fc47187aa703",
   "metadata": {},
   "source": [
    "# Methods"
   ]
  },
  {
   "cell_type": "markdown",
   "id": "f36e3986-b5e3-4197-9706-c1ff37f1a222",
   "metadata": {},
   "source": [
    "### Cars catalogue\n",
    "I add small behaviors to Car: a one-line summary built from its attributes and a simple vintage check based on the current year and the car’s year. I call these methods and compare the outputs to the stored data."
   ]
  },
  {
   "cell_type": "code",
   "execution_count": 176,
   "id": "7554087f-da4a-4780-a60f-cb4ed541a889",
   "metadata": {},
   "outputs": [
    {
     "data": {
      "text/plain": [
       "'The car has been transfered from Jhon to Nick'"
      ]
     },
     "execution_count": 176,
     "metadata": {},
     "output_type": "execute_result"
    }
   ],
   "source": [
    "from datetime import date\n",
    "\n",
    "class Car:\n",
    "    def __init__ (self, car_brand: str, car_year: int, car_owner: str, car_weight: int) -> None:\n",
    "        self.car_brand: str = car_brand\n",
    "        self.car_year: int = car_year\n",
    "        self.car_owner: str = car_owner\n",
    "        self.car_weight: int = car_weight\n",
    "\n",
    "    def summary (self):\n",
    "        return f'The car was produced by {self.car_brand} in {self.car_year}, it weights {self.car_weight} and is owned by {self.car_owner}'\n",
    "\n",
    "    def vintage (self):\n",
    "        return 'The car is not vintage' if (date.today().year - self.car_year < 30) else 'The car is vintage' \n",
    "\n",
    "    def transfer (self, new_owner):\n",
    "        if new_owner == self.car_owner:\n",
    "            raise ValueError (\"Receiver can't be the old owner\")\n",
    "        elif new_owner == \"\":\n",
    "            raise ValueError (\"Invalid receiver\")\n",
    "        else:\n",
    "            confirmation_str = f'The car has been transfered from {self.car_owner} to {new_owner}'\n",
    "            self.car_owner = new_owner\n",
    "            return confirmation_str\n",
    "\n",
    "c1 = Car(car_brand = \"Honda\", car_year = 1986, car_owner = \"Jhon\", car_weight = 200)\n",
    "c1.summary()\n",
    "c1.vintage()\n",
    "c1.transfer(\"Nick\")"
   ]
  },
  {
   "cell_type": "markdown",
   "id": "9d7f2967-e121-4db4-affa-274a77ade66b",
   "metadata": {},
   "source": [
    "### Patient record\n",
    "I add methods to return a full name from first and last, derive a human label from gender, and update the last name in place. I call them and immediately read attributes to confirm the changes or returned text."
   ]
  },
  {
   "cell_type": "code",
   "execution_count": 127,
   "id": "97d7abb3-44e4-4514-b1fa-e42a21b20066",
   "metadata": {},
   "outputs": [
    {
     "name": "stdout",
     "output_type": "stream",
     "text": [
      "Robert White\n",
      "man\n",
      "Robert Williams\n"
     ]
    }
   ],
   "source": [
    "class PatientRecord:\n",
    "    def __init__(self, patient_ID: int, patient_gender: str, patient_name: str, patient_surname: str)->None:\n",
    "        self.patient_ID: int = patient_ID\n",
    "        self.patient_gender: str = patient_gender\n",
    "        self.patient_name: str = patient_name\n",
    "        self.patient_surname: str = patient_surname\n",
    "\n",
    "    def full_name (self):\n",
    "        return self.patient_name + \" \" + self.patient_surname\n",
    "\n",
    "    def gender (self):\n",
    "        return \"man\" if self.patient_gender == \"Male\" else \"woman\"\n",
    "\n",
    "    def change_surname (self, new_surname:str):\n",
    "        self.patient_surname = new_surname\n",
    "    \n",
    "p1 = PatientRecord (patient_ID = 33524, patient_gender = \"Male\", patient_name = \"Robert\", patient_surname = \"White\")\n",
    "\n",
    "print(p1.full_name())\n",
    "print(p1.gender())\n",
    "p1.change_surname (\"Williams\")\n",
    "print(p1.full_name())"
   ]
  },
  {
   "cell_type": "markdown",
   "id": "51507b21-2b3c-4f7e-81ca-dc0c1dece06f",
   "metadata": {},
   "source": [
    "### Bank Accounts\n",
    "I implement deposit and withdraw with input checks that raise clear errors on invalid amounts. I also add transfer that moves funds from one account to another by composing withdraw on the sender and deposit on the receiver atomically."
   ]
  },
  {
   "cell_type": "code",
   "execution_count": 163,
   "id": "34e18f6f-014a-436a-968b-cb6fe833753d",
   "metadata": {},
   "outputs": [
    {
     "name": "stdout",
     "output_type": "stream",
     "text": [
      "0.0\n",
      "After deposit, Frank has 35.0\n",
      "After withdraw, Frank had 20.0\n",
      "After transfer, Frank has 17.0, Melissa has 3.0\n"
     ]
    }
   ],
   "source": [
    "class BankAccount:\n",
    "    def __init__ (self, owner:str, currency: str= \"EUR\", balance:float=0.0)->None:\n",
    "        self.owner: str = owner\n",
    "        self.currency: str = currency\n",
    "        self.balance: float = balance\n",
    "\n",
    "    def deposit (self, n):\n",
    "        if n < 0:\n",
    "            raise ValueError(\"deposits must be positive\")\n",
    "        else:\n",
    "            self.balance += n\n",
    "\n",
    "    def withdraw (self, n):\n",
    "        if n < 0:\n",
    "            raise ValueError(\"you must withdraw a positive amount\")\n",
    "        elif n>self.balance:\n",
    "            raise ValueError (\"you are trying to withdraw more than you have\")\n",
    "        else:\n",
    "            self.balance -= n\n",
    "\n",
    "    def transfer (self, n, receiver):\n",
    "        self.withdraw(n)\n",
    "        receiver.deposit(n)\n",
    "        \n",
    "\n",
    "client_1 = BankAccount(\"Frank\")\n",
    "client_2 = BankAccount(\"Melissa\")\n",
    "print(client_1.balance)\n",
    "\n",
    "client_1.deposit(35)\n",
    "print(f'After deposit, {client_1.owner} has {client_1.balance}')\n",
    "\n",
    "client_1.withdraw(15)\n",
    "print(f'After withdraw, {client_1.owner} had {client_1.balance}')\n",
    "\n",
    "client_1.transfer(3, client_2)\n",
    "print(f'After transfer, {client_1.owner} has {client_1.balance}, {client_2.owner} has {client_2.balance}')"
   ]
  },
  {
   "cell_type": "markdown",
   "id": "aef7001a-9a07-456f-be99-0b724d227f63",
   "metadata": {},
   "source": [
    "## Dunder methods beyond `__init__`: `__str__()` and `__repr__()`"
   ]
  },
  {
   "cell_type": "code",
   "execution_count": null,
   "id": "0659e7d8-39d0-41da-b1d3-b9caaefb3c93",
   "metadata": {},
   "outputs": [],
   "source": []
  }
 ],
 "metadata": {
  "kernelspec": {
   "display_name": "Python [conda env:base] *",
   "language": "python",
   "name": "conda-base-py"
  },
  "language_info": {
   "codemirror_mode": {
    "name": "ipython",
    "version": 3
   },
   "file_extension": ".py",
   "mimetype": "text/x-python",
   "name": "python",
   "nbconvert_exporter": "python",
   "pygments_lexer": "ipython3",
   "version": "3.13.5"
  }
 },
 "nbformat": 4,
 "nbformat_minor": 5
}
