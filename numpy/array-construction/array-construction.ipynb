{
 "cells": [
  {
   "cell_type": "markdown",
   "id": "78dc11f4-2532-407b-92f5-1443d4069cce",
   "metadata": {},
   "source": [
    "## Set of array-construction exercises in NumPY\n",
    "This notebook shows my solutions to array-construction exercises in NumPy.  \n",
    "Markdown cells show the target matrices; code cells show my solution.\n",
    "\n",
    "Constraints: \n",
    "- no for loops,\n",
    "- only NumPy functions (zeros, ones, eye, diag, arange, reshape, linspace, tile, stack, minimum, slicing, indexing, ...)\n",
    "\n"
   ]
  },
  {
   "cell_type": "code",
   "execution_count": 4,
   "id": "bfb3537d-7246-4f1a-80aa-80531bfa3116",
   "metadata": {},
   "outputs": [],
   "source": [
    "import numpy as np"
   ]
  },
  {
   "cell_type": "markdown",
   "id": "ce68709d-575c-492f-b520-448e1daca222",
   "metadata": {},
   "source": [
    "#### Target 01\n",
    "```\n",
    "[[1 2 3 4 5 6]]"
   ]
  },
  {
   "cell_type": "code",
   "execution_count": 62,
   "id": "b9986a47-68a6-4c0e-a185-451605c95f8c",
   "metadata": {},
   "outputs": [
    {
     "name": "stdout",
     "output_type": "stream",
     "text": [
      "[[1 2 3 4 5 6]]\n"
     ]
    }
   ],
   "source": [
    "import numpy as np\n",
    "a=np.arange(1,7).reshape(1,-1)\n",
    "print(a)"
   ]
  },
  {
   "cell_type": "markdown",
   "id": "c20166f9-c1c2-4c76-b7d8-e79308f3875e",
   "metadata": {},
   "source": [
    "#### Target 02\n",
    "```\n",
    "[[1]\n",
    " [2]\n",
    " [3]\n",
    " [4]\n",
    " [5]\n",
    " [6]]"
   ]
  },
  {
   "cell_type": "code",
   "execution_count": 34,
   "id": "a9d59aee-7df7-4ff5-87d2-38e4e4a18a0a",
   "metadata": {},
   "outputs": [
    {
     "name": "stdout",
     "output_type": "stream",
     "text": [
      "[[1]\n",
      " [2]\n",
      " [3]\n",
      " [4]\n",
      " [5]\n",
      " [6]]\n"
     ]
    }
   ],
   "source": [
    "b=np.arange(1,7)\n",
    "b=b.reshape(-1,1)\n",
    "print(b)"
   ]
  },
  {
   "cell_type": "markdown",
   "id": "36e317b3-3602-438c-8ec0-0204da258b2a",
   "metadata": {},
   "source": [
    "#### Target 03\n",
    "```\n",
    "[[0 1 0 0 0]\n",
    " [0 0 1 0 0]\n",
    " [0 0 0 1 0]\n",
    " [0 0 0 0 1]\n",
    " [0 0 0 0 0]]"
   ]
  },
  {
   "cell_type": "code",
   "execution_count": 35,
   "id": "f991441d-8db1-40df-981c-255ee6eb72a8",
   "metadata": {},
   "outputs": [
    {
     "name": "stdout",
     "output_type": "stream",
     "text": [
      "[[0. 1. 0. 0. 0.]\n",
      " [0. 0. 1. 0. 0.]\n",
      " [0. 0. 0. 1. 0.]\n",
      " [0. 0. 0. 0. 1.]\n",
      " [0. 0. 0. 0. 0.]]\n"
     ]
    }
   ],
   "source": [
    "c=np.eye(5,k=1)\n",
    "print(c)"
   ]
  },
  {
   "cell_type": "markdown",
   "id": "53e20955-a75e-4ce8-afdf-396f0ca57d49",
   "metadata": {},
   "source": [
    "#### Target 04\n",
    "```\n",
    "[[1 0 0 0]\n",
    " [0 2 0 0]\n",
    " [0 0 3 0]\n",
    " [0 0 0 4]]"
   ]
  },
  {
   "cell_type": "code",
   "execution_count": 64,
   "id": "2bbf799c-e240-4ac2-8b8d-5db87b480034",
   "metadata": {},
   "outputs": [
    {
     "name": "stdout",
     "output_type": "stream",
     "text": [
      "[[1 0 0 0 0]\n",
      " [0 2 0 0 0]\n",
      " [0 0 3 0 0]\n",
      " [0 0 0 4 0]\n",
      " [0 0 0 0 5]]\n"
     ]
    }
   ],
   "source": [
    "d = np.diag((1,2,3,4,5))\n",
    "print(d)"
   ]
  },
  {
   "cell_type": "markdown",
   "id": "ade32999-cde4-44b8-b81f-0f525f4f0c92",
   "metadata": {},
   "source": [
    "#### Target 05\n",
    "```\n",
    "[[0 0 0 1]\n",
    " [0 0 2 0]\n",
    " [0 3 0 0]\n",
    " [4 0 0 0]]"
   ]
  },
  {
   "cell_type": "code",
   "execution_count": 69,
   "id": "de858520-ddde-4f74-a299-bec5fe066b14",
   "metadata": {},
   "outputs": [
    {
     "name": "stdout",
     "output_type": "stream",
     "text": [
      "[[0 0 0 1]\n",
      " [0 0 2 0]\n",
      " [0 3 0 0]\n",
      " [4 0 0 0]]\n"
     ]
    }
   ],
   "source": [
    "e=np.fliplr(np.diag((1,2,3,4)))\n",
    "print(e)"
   ]
  },
  {
   "cell_type": "markdown",
   "id": "06846587-3274-4e27-a7fd-759da5b4d779",
   "metadata": {},
   "source": [
    "#### Target 06\n",
    "```\n",
    "[[0 1 0 1 0 1]\n",
    " [1 0 1 0 1 0]\n",
    " [0 1 0 1 0 1]\n",
    " [1 0 1 0 1 0]\n",
    " [0 1 0 1 0 1]\n",
    " [1 0 1 0 1 0]]"
   ]
  },
  {
   "cell_type": "code",
   "execution_count": 38,
   "id": "5fd38422-32fc-4b08-971c-e7c4474f2206",
   "metadata": {},
   "outputs": [
    {
     "name": "stdout",
     "output_type": "stream",
     "text": [
      "[[0. 1. 0. 1. 0. 1.]\n",
      " [1. 0. 1. 0. 1. 0.]\n",
      " [0. 1. 0. 1. 0. 1.]\n",
      " [1. 0. 1. 0. 1. 0.]\n",
      " [0. 1. 0. 1. 0. 1.]\n",
      " [1. 0. 1. 0. 1. 0.]]\n"
     ]
    }
   ],
   "source": [
    "f = np.zeros((6,6))\n",
    "f[0::2, 1::2]=1\n",
    "f[1::2, 0::2]=1\n",
    "print(f)"
   ]
  },
  {
   "cell_type": "markdown",
   "id": "852e0278-2a88-4efc-b71c-a2955b062964",
   "metadata": {},
   "source": [
    "#### Target 07\n",
    "```\n",
    "[[0 0 0 0 0]\n",
    " [1 1 1 1 1]\n",
    " [2 2 2 2 2]\n",
    " [3 3 3 3 3]\n",
    " [4 4 4 4 4]]"
   ]
  },
  {
   "cell_type": "code",
   "execution_count": 72,
   "id": "3130186d-976b-4a16-b32c-f6ccaac52d11",
   "metadata": {},
   "outputs": [
    {
     "name": "stdout",
     "output_type": "stream",
     "text": [
      "[[0. 0. 0. 0. 0.]\n",
      " [1. 1. 1. 1. 1.]\n",
      " [2. 2. 2. 2. 2.]\n",
      " [3. 3. 3. 3. 3.]\n",
      " [4. 4. 4. 4. 4.]]\n"
     ]
    }
   ],
   "source": [
    "g=np.zeros(5)\n",
    "g=np.vstack((g,g+1,g+2,g+3,g+4))\n",
    "print(g)"
   ]
  },
  {
   "cell_type": "markdown",
   "id": "8dab5bde-9a79-45de-a171-4e68c7e82083",
   "metadata": {},
   "source": [
    "#### Target 08\n",
    "```\n",
    "[[0 1 2 3 4]\n",
    " [0 1 2 3 4]\n",
    " [0 1 2 3 4]\n",
    " [0 1 2 3 4]\n",
    " [0 1 2 3 4]]"
   ]
  },
  {
   "cell_type": "code",
   "execution_count": 76,
   "id": "5c47f3ac-ec70-43d8-b581-2d8687591205",
   "metadata": {},
   "outputs": [
    {
     "name": "stdout",
     "output_type": "stream",
     "text": [
      "[[0. 1. 2. 3. 4.]\n",
      " [0. 1. 2. 3. 4.]\n",
      " [0. 1. 2. 3. 4.]\n",
      " [0. 1. 2. 3. 4.]\n",
      " [0. 1. 2. 3. 4.]]\n"
     ]
    }
   ],
   "source": [
    "h=np.zeros((5,1))\n",
    "h=np.hstack((h,h+1,h+2,h+3,h+4))\n",
    "print(h)"
   ]
  },
  {
   "cell_type": "markdown",
   "id": "9901caed-30f1-447d-b1bb-3f2ae57691f2",
   "metadata": {},
   "source": [
    "#### Target 09\n",
    "```\n",
    "[[10 11 12 13 14]\n",
    " [15 16 17 18 19]\n",
    " [20 21 22 23 24]]"
   ]
  },
  {
   "cell_type": "code",
   "execution_count": 78,
   "id": "9db39dae-c09c-4c94-a349-0ac4278aec67",
   "metadata": {},
   "outputs": [
    {
     "name": "stdout",
     "output_type": "stream",
     "text": [
      "[[10 11 12 13 14]\n",
      " [15 16 17 18 19]\n",
      " [20 21 22 23 24]]\n"
     ]
    }
   ],
   "source": [
    "j = np.arange (10,25).reshape((3,5))\n",
    "print(j)"
   ]
  },
  {
   "cell_type": "markdown",
   "id": "c42b4507-9448-4d27-aa39-25c807e2814a",
   "metadata": {},
   "source": [
    "#### Target 10\n",
    "```\n",
    "[[ 0  1  2  3  4  5]\n",
    " [ 6  7  8  9 10 11]\n",
    " [12 13 14 15 16 17]]"
   ]
  },
  {
   "cell_type": "code",
   "execution_count": 79,
   "id": "ceb706aa-8edc-43fd-9092-6b9f51b0a1bd",
   "metadata": {},
   "outputs": [
    {
     "name": "stdout",
     "output_type": "stream",
     "text": [
      "[[ 0  1  2  3  4  5]\n",
      " [ 6  7  8  9 10 11]\n",
      " [12 13 14 15 16 17]]\n"
     ]
    }
   ],
   "source": [
    "k = np.arange (0,18).reshape ((3,6))\n",
    "print(k)"
   ]
  },
  {
   "cell_type": "markdown",
   "id": "9d2e1d7e-e873-423f-bbea-a9f55d59e08e",
   "metadata": {},
   "source": [
    "#### Target 11\n",
    "```\n",
    "[[ 0  6 12]\n",
    " [ 1  7 13]\n",
    " [ 2  8 14]\n",
    " [ 3  9 15]\n",
    " [ 4 10 16]\n",
    " [ 5 11 17]]"
   ]
  },
  {
   "cell_type": "code",
   "execution_count": 83,
   "id": "355d07e1-ac51-4e27-a745-d4dfb4c05013",
   "metadata": {},
   "outputs": [
    {
     "name": "stdout",
     "output_type": "stream",
     "text": [
      "[[ 0  6 12]\n",
      " [ 1  7 13]\n",
      " [ 2  8 14]\n",
      " [ 3  9 15]\n",
      " [ 4 10 16]\n",
      " [ 5 11 17]]\n"
     ]
    }
   ],
   "source": [
    "l = np.arange(18).reshape(6,3,order='F')\n",
    "print(l)"
   ]
  },
  {
   "cell_type": "markdown",
   "id": "382d6cd0-c72e-4b60-820f-c748dac02aa3",
   "metadata": {},
   "source": [
    "#### Target 12\n",
    "```\n",
    "[[1 1 1 1 1]\n",
    " [1 0 0 0 1]\n",
    " [1 0 0 0 1]\n",
    " [1 0 0 0 1]\n",
    " [1 1 1 1 1]]"
   ]
  },
  {
   "cell_type": "code",
   "execution_count": 85,
   "id": "c9bd9332-d88d-48fe-8a25-19df835ed568",
   "metadata": {},
   "outputs": [
    {
     "name": "stdout",
     "output_type": "stream",
     "text": [
      "[[1. 1. 1. 1. 1.]\n",
      " [1. 0. 0. 0. 1.]\n",
      " [1. 0. 0. 0. 1.]\n",
      " [1. 0. 0. 0. 1.]\n",
      " [1. 1. 1. 1. 1.]]\n"
     ]
    }
   ],
   "source": [
    "m = np.ones ((5,5))\n",
    "m[1:-1,1:-1]=0\n",
    "print(m)"
   ]
  },
  {
   "cell_type": "markdown",
   "id": "69119d99-a79e-43f4-9d14-3e9f06a205aa",
   "metadata": {},
   "source": [
    "#### Target 13\n",
    "```\n",
    "[[0 0 0 0 0]\n",
    " [0 1 1 1 0]\n",
    " [0 1 1 1 0]\n",
    " [0 1 1 1 0]\n",
    " [0 0 0 0 0]]"
   ]
  },
  {
   "cell_type": "code",
   "execution_count": 45,
   "id": "dbaaf3d9-4bde-43f1-a593-f6adf45263bd",
   "metadata": {},
   "outputs": [
    {
     "name": "stdout",
     "output_type": "stream",
     "text": [
      "[[0. 0. 0. 0. 0.]\n",
      " [0. 1. 1. 1. 0.]\n",
      " [0. 1. 1. 1. 0.]\n",
      " [0. 1. 1. 1. 0.]\n",
      " [0. 0. 0. 0. 0.]]\n"
     ]
    }
   ],
   "source": [
    "n = np.ones ((5,5))\n",
    "n[0::4, :]=0\n",
    "n[:, 0::4]=0\n",
    "print(n)"
   ]
  },
  {
   "cell_type": "markdown",
   "id": "53a782bb-6ea5-4831-9ee9-fd39c900db08",
   "metadata": {},
   "source": [
    "#### Target 14\n",
    "```\n",
    "[[0 0 1 0 0]\n",
    " [0 0 1 0 0]\n",
    " [1 1 1 1 1]\n",
    " [0 0 1 0 0]\n",
    " [0 0 1 0 0]]"
   ]
  },
  {
   "cell_type": "code",
   "execution_count": 46,
   "id": "e7072b04-d568-42a7-a0a8-386114f70d3b",
   "metadata": {},
   "outputs": [
    {
     "name": "stdout",
     "output_type": "stream",
     "text": [
      "[[0. 0. 1. 0. 0.]\n",
      " [0. 0. 1. 0. 0.]\n",
      " [1. 1. 1. 1. 1.]\n",
      " [0. 0. 1. 0. 0.]\n",
      " [0. 0. 1. 0. 0.]]\n"
     ]
    }
   ],
   "source": [
    "o = np.zeros ((5,5))\n",
    "o[2,:]=1\n",
    "o[:,2]=1\n",
    "print(o)"
   ]
  },
  {
   "cell_type": "markdown",
   "id": "e27f4924-4897-425c-8c47-aef37b6a7727",
   "metadata": {},
   "source": [
    "#### Target 15\n",
    "```\n",
    "[[1 0 0 0 1]\n",
    " [0 1 0 1 0]\n",
    " [0 0 1 0 0]\n",
    " [0 1 0 1 0]\n",
    " [1 0 0 0 1]]"
   ]
  },
  {
   "cell_type": "code",
   "execution_count": 89,
   "id": "988b4fef-8f69-41a2-bc39-affab472a896",
   "metadata": {},
   "outputs": [
    {
     "name": "stdout",
     "output_type": "stream",
     "text": [
      "[[1. 0. 0. 0. 1.]\n",
      " [0. 1. 0. 1. 0.]\n",
      " [0. 0. 1. 0. 0.]\n",
      " [0. 1. 0. 1. 0.]\n",
      " [1. 0. 0. 0. 1.]]\n"
     ]
    }
   ],
   "source": [
    "p = np.eye (5,5)\n",
    "p = np.clip(p + np.fliplr(p))\n",
    "p[p>1]=1\n",
    "print(p)"
   ]
  },
  {
   "cell_type": "markdown",
   "id": "450f692c-640f-4bed-b90f-9f291e0f3716",
   "metadata": {},
   "source": [
    "#### Target 16\n",
    "```\n",
    "[[0 0 0 0]\n",
    " [7 0 0 0]\n",
    " [0 7 0 0]\n",
    " [0 0 7 0]\n",
    " [0 0 0 7]]"
   ]
  },
  {
   "cell_type": "code",
   "execution_count": 93,
   "id": "1e4d928e-6d2c-489b-a559-40ead2bebb88",
   "metadata": {},
   "outputs": [
    {
     "name": "stdout",
     "output_type": "stream",
     "text": [
      "[[0. 0. 0. 0.]\n",
      " [7. 0. 0. 0.]\n",
      " [0. 7. 0. 0.]\n",
      " [0. 0. 7. 0.]\n",
      " [0. 0. 0. 7.]]\n"
     ]
    }
   ],
   "source": [
    "q = 7*np.eye(5,4,-1)\n",
    "print(q)"
   ]
  },
  {
   "cell_type": "markdown",
   "id": "3f3fa92a-c2aa-4adf-8049-c86ac349ebd9",
   "metadata": {},
   "source": [
    "#### Target 17\n",
    "```\n",
    "[[ 0  1  2  3  4]\n",
    " [10 11 12 13 14]\n",
    " [20 21 22 23 24]\n",
    " [30 31 32 33 34]]"
   ]
  },
  {
   "cell_type": "code",
   "execution_count": 49,
   "id": "f17af281-3565-4c4c-999a-afd70370a09f",
   "metadata": {},
   "outputs": [
    {
     "name": "stdout",
     "output_type": "stream",
     "text": [
      "[[ 0  1  2  3  4]\n",
      " [10 11 12 13 14]\n",
      " [20 21 22 23 24]\n",
      " [30 31 32 33 34]]\n"
     ]
    }
   ],
   "source": [
    "r = np.arange(5)\n",
    "r = np.vstack ((r, r+10, r+20, r+30))\n",
    "print(r)"
   ]
  },
  {
   "cell_type": "markdown",
   "id": "5e5bff96-b29d-410e-9886-066c7a673bdf",
   "metadata": {},
   "source": [
    "#### Target 18\n",
    "```\n",
    "[[0.   0.25 0.5  0.75 1.  ]\n",
    " [0.   0.25 0.5  0.75 1.  ]\n",
    " [0.   0.25 0.5  0.75 1.  ]]"
   ]
  },
  {
   "cell_type": "code",
   "execution_count": 50,
   "id": "9ca7ed57-91aa-45fd-a4f6-d2c8c2469ae6",
   "metadata": {},
   "outputs": [
    {
     "name": "stdout",
     "output_type": "stream",
     "text": [
      "[[0.   0.25 0.5  0.75 1.  ]\n",
      " [0.   0.25 0.5  0.75 1.  ]\n",
      " [0.   0.25 0.5  0.75 1.  ]]\n"
     ]
    }
   ],
   "source": [
    "s = np.linspace (0,1,num=5,dtype=float)\n",
    "s = np.vstack((s,s,s))\n",
    "print(s)"
   ]
  },
  {
   "cell_type": "markdown",
   "id": "da62a036-16e9-489a-aebd-3bc53cb616c2",
   "metadata": {},
   "source": [
    "### Target 19\n",
    "```\n",
    "[[ 2 -1  0  0  0  0]\n",
    " [-1  2 -1  0  0  0]\n",
    " [ 0 -1  2 -1  0  0]\n",
    " [ 0  0 -1  2 -1  0]\n",
    " [ 0  0  0 -1  2 -1]\n",
    " [ 0  0  0  0 -1  2]]"
   ]
  },
  {
   "cell_type": "code",
   "execution_count": 95,
   "id": "c4247839-f2af-4fa8-a81c-cf0704820a1a",
   "metadata": {},
   "outputs": [
    {
     "name": "stdout",
     "output_type": "stream",
     "text": [
      "[[ 2. -1.  0.  0.  0.  0.]\n",
      " [-1.  2. -1.  0.  0.  0.]\n",
      " [ 0. -1.  2. -1.  0.  0.]\n",
      " [ 0.  0. -1.  2. -1.  0.]\n",
      " [ 0.  0.  0. -1.  2. -1.]\n",
      " [ 0.  0.  0.  0. -1.  2.]]\n"
     ]
    }
   ],
   "source": [
    "t = 2*np.eye(6,6) - np.eye(6,6,-1) - np.eye(6,6,+1)\n",
    "print(t)"
   ]
  },
  {
   "cell_type": "markdown",
   "id": "d0ab25b1-af22-478c-b503-49b3d09f903e",
   "metadata": {},
   "source": [
    "#### Target 20\n",
    "```\n",
    "[[1 1 1 2 2 2]\n",
    " [1 1 1 2 2 2]\n",
    " [1 1 1 2 2 2]\n",
    " [0 0 0 3 0 0]\n",
    " [0 0 0 0 3 0]\n",
    " [0 0 0 0 0 3]]"
   ]
  },
  {
   "cell_type": "code",
   "execution_count": 52,
   "id": "08fdbc27-6980-4019-b319-53a10685ed2a",
   "metadata": {},
   "outputs": [
    {
     "name": "stdout",
     "output_type": "stream",
     "text": [
      "[[1. 1. 1. 2. 2. 2.]\n",
      " [1. 1. 1. 2. 2. 2.]\n",
      " [1. 1. 1. 2. 2. 2.]\n",
      " [0. 0. 0. 3. 0. 0.]\n",
      " [0. 0. 0. 0. 3. 0.]\n",
      " [0. 0. 0. 0. 0. 3.]]\n"
     ]
    }
   ],
   "source": [
    "top_left = np.ones((3,3))\n",
    "top_right = np.full((3,3),2)\n",
    "top = np.hstack ((top_left, top_right))\n",
    "bottom = np.eye (3,6,k=3)\n",
    "bottom[bottom!=0]=3\n",
    "M = np.vstack ((top, bottom))\n",
    "print(M)"
   ]
  },
  {
   "cell_type": "markdown",
   "id": "79fcc0ca-2496-45fc-b5a7-6efa38b4c7da",
   "metadata": {},
   "source": [
    "#### Target 21\n",
    "```\n",
    "[[1 0 0 0 0 0]\n",
    " [1 1 0 0 0 0]\n",
    " [1 1 1 0 0 0]\n",
    " [1 1 1 1 0 0]\n",
    " [1 1 1 1 1 0]\n",
    " [1 1 1 1 1 1]]\n"
   ]
  },
  {
   "cell_type": "code",
   "execution_count": 162,
   "id": "a13ea460-4593-4f9d-b042-16bb0d6f38bd",
   "metadata": {},
   "outputs": [
    {
     "name": "stdout",
     "output_type": "stream",
     "text": [
      "[[1 0 0 0 0 0]\n",
      " [1 1 0 0 0 0]\n",
      " [1 1 1 0 0 0]\n",
      " [1 1 1 1 0 0]\n",
      " [1 1 1 1 1 0]\n",
      " [1 1 1 1 1 1]]\n"
     ]
    }
   ],
   "source": [
    "i, j = np.indices ((6,6))\n",
    "a[j-i<=0]=1\n",
    "print(a)"
   ]
  },
  {
   "cell_type": "markdown",
   "id": "f53fb6da-2143-4dfa-a862-d5aa840416f5",
   "metadata": {},
   "source": [
    "#### Target 22\n",
    "```\n",
    "[[6 5 4 3 4 5 6]\n",
    " [5 4 3 2 3 4 5]\n",
    " [4 3 2 1 2 3 4]\n",
    " [3 2 1 0 1 2 3]\n",
    " [4 3 2 1 2 3 4]\n",
    " [5 4 3 2 3 4 5]\n",
    " [6 5 4 3 4 5 6]]"
   ]
  },
  {
   "cell_type": "code",
   "execution_count": 100,
   "id": "bb237a22-4da2-43ab-9157-ad0fe6aae292",
   "metadata": {},
   "outputs": [
    {
     "name": "stdout",
     "output_type": "stream",
     "text": [
      "[[6 5 4 3 4 5 6]\n",
      " [5 4 3 2 3 4 5]\n",
      " [4 3 2 1 2 3 4]\n",
      " [3 2 1 0 1 2 3]\n",
      " [4 3 2 1 2 3 4]\n",
      " [5 4 3 2 3 4 5]\n",
      " [6 5 4 3 4 5 6]]\n"
     ]
    }
   ],
   "source": [
    "e = np.array((3,2,1,0,1,2,3))\n",
    "e = np.vstack((e+3, e+2, e+1, e, e+1, e+2, e+3))\n",
    "print(e)"
   ]
  },
  {
   "cell_type": "markdown",
   "id": "c1722bf0-fdc7-4086-b8b6-946aff83b706",
   "metadata": {},
   "source": [
    "#### Target 23\n",
    "```\n",
    "[[ 0  0  0  0  0  0  0  0]\n",
    " [ 0  1  2  3  4  5  6  7]\n",
    " [ 0  2  4  6  8 10 12 14]\n",
    " [ 0  3  6  9 12 15 18 21]\n",
    " [ 0  4  8 12 16 20 24 28]]\n"
   ]
  },
  {
   "cell_type": "code",
   "execution_count": 104,
   "id": "d40f49b5-a678-466f-8eec-a6fac18d84c8",
   "metadata": {},
   "outputs": [
    {
     "name": "stdout",
     "output_type": "stream",
     "text": [
      "[[ 0  0  0  0  0  0  0]\n",
      " [ 1  2  3  4  5  6  7]\n",
      " [ 2  4  6  8 10 12 14]\n",
      " [ 3  6  9 12 15 18 21]\n",
      " [ 4  8 12 16 20 24 28]]\n"
     ]
    }
   ],
   "source": [
    "f = np.arange(1,8)\n",
    "f = np.vstack ((0*f, 1*f, 2*f, 3*f, 4*f)) \n",
    "print(f)"
   ]
  },
  {
   "cell_type": "markdown",
   "id": "90675ac0-ee2b-46e7-9163-73ede6d9d34c",
   "metadata": {},
   "source": [
    "#### Target 24\n",
    "```\n",
    "[[0 1 2 3 4 5]\n",
    " [1 0 1 2 3 4]\n",
    " [2 1 0 1 2 3]\n",
    " [3 2 1 0 1 2]\n",
    " [4 3 2 1 0 1]\n",
    " [5 4 3 2 1 0]]\n"
   ]
  },
  {
   "cell_type": "code",
   "execution_count": 164,
   "id": "917e9a70-a7ea-4c37-894d-cf9a0c90bbdb",
   "metadata": {},
   "outputs": [
    {
     "name": "stdout",
     "output_type": "stream",
     "text": [
      "[[0. 1. 2. 3. 4. 5.]\n",
      " [1. 0. 1. 2. 3. 4.]\n",
      " [2. 1. 0. 1. 2. 3.]\n",
      " [3. 2. 1. 0. 1. 2.]\n",
      " [4. 3. 2. 1. 0. 1.]\n",
      " [5. 4. 3. 2. 1. 0.]]\n"
     ]
    }
   ],
   "source": [
    "i, j = np.indices((6,6))\n",
    "g[i,j]=abs(i-j)\n",
    "print(g)"
   ]
  },
  {
   "cell_type": "markdown",
   "id": "58dfe331-3a44-402c-a369-1a5a699e3731",
   "metadata": {},
   "source": [
    "#### Target 25\n",
    "```\n",
    "[[0 0 1 1 0 0 1 1]\n",
    " [0 0 1 1 0 0 1 1]\n",
    " [1 1 0 0 1 1 0 0]\n",
    " [1 1 0 0 1 1 0 0]\n",
    " [0 0 1 1 0 0 1 1]\n",
    " [0 0 1 1 0 0 1 1]\n",
    " [1 1 0 0 1 1 0 0]\n",
    " [1 1 0 0 1 1 0 0]]\n"
   ]
  },
  {
   "cell_type": "code",
   "execution_count": 141,
   "id": "11c70a30-c6a9-4051-b173-05fe2e452990",
   "metadata": {},
   "outputs": [
    {
     "name": "stdout",
     "output_type": "stream",
     "text": [
      "[[0. 0. 1. 1. 0. 0. 1. 1.]\n",
      " [0. 0. 1. 1. 0. 0. 1. 1.]\n",
      " [1. 1. 0. 0. 1. 1. 0. 0.]\n",
      " [1. 1. 0. 0. 1. 1. 0. 0.]\n",
      " [0. 0. 1. 1. 0. 0. 1. 1.]\n",
      " [0. 0. 1. 1. 0. 0. 1. 1.]\n",
      " [1. 1. 0. 0. 1. 1. 0. 0.]\n",
      " [1. 1. 0. 0. 1. 1. 0. 0.]]\n"
     ]
    }
   ],
   "source": [
    "h = np.zeros((2,2))\n",
    "i = np.ones((2,2))\n",
    "j = np.vstack(( np.hstack((h, i, h, i)), np.hstack((i, h, i, h))))\n",
    "j = np.vstack(( j, j))\n",
    "print(j)"
   ]
  },
  {
   "cell_type": "markdown",
   "id": "44ed3750-c5d6-4cbf-9b06-9c971b8ebbd0",
   "metadata": {},
   "source": [
    "#### Target 26\n",
    "```\n",
    "[[0 0 0 0 0 0 0]\n",
    " [0 1 1 1 1 1 0]\n",
    " [0 1 2 2 2 1 0]\n",
    " [0 1 2 3 2 1 0]\n",
    " [0 1 2 2 2 1 0]\n",
    " [0 1 1 1 1 1 0]\n",
    " [0 0 0 0 0 0 0]]\n"
   ]
  },
  {
   "cell_type": "code",
   "execution_count": 175,
   "id": "c9993bf0-bdbb-404e-a5da-392b928d990a",
   "metadata": {},
   "outputs": [
    {
     "name": "stdout",
     "output_type": "stream",
     "text": [
      "[[0 0 0 0 0 0 0]\n",
      " [0 1 1 1 1 1 1]\n",
      " [0 1 2 2 2 2 1]\n",
      " [0 1 2 3 3 2 1]\n",
      " [0 1 2 3 3 2 1]\n",
      " [0 1 2 2 2 2 1]\n",
      " [0 1 1 1 1 1 1]]\n"
     ]
    }
   ],
   "source": [
    "i, j = np.indices((7,7))\n",
    "k = np.minimum.reduce([i,j, 7-i, 7-j])\n",
    "print(k)"
   ]
  },
  {
   "cell_type": "markdown",
   "id": "0dd8c23d-88e8-46c8-a16f-08d44d94dbe4",
   "metadata": {},
   "source": [
    "#### Target 27\n",
    "```\n",
    "[[0 1 2 0 1 2 0 1 2]\n",
    " [0 1 2 0 1 2 0 1 2]\n",
    " [0 1 2 0 1 2 0 1 2]\n",
    " [0 1 2 0 1 2 0 1 2]\n",
    " [0 1 2 0 1 2 0 1 2]\n",
    " [0 1 2 0 1 2 0 1 2]]\n"
   ]
  },
  {
   "cell_type": "code",
   "execution_count": 138,
   "id": "ff3ca44b-eaae-406d-8aea-00e949ef6654",
   "metadata": {},
   "outputs": [
    {
     "name": "stdout",
     "output_type": "stream",
     "text": [
      "[[0 1 2 0 1 2 0 1 2]\n",
      " [0 1 2 0 1 2 0 1 2]\n",
      " [0 1 2 0 1 2 0 1 2]\n",
      " [0 1 2 0 1 2 0 1 2]\n",
      " [0 1 2 0 1 2 0 1 2]\n",
      " [0 1 2 0 1 2 0 1 2]]\n"
     ]
    }
   ],
   "source": [
    "l = np.array((0,1,2))\n",
    "l = np.tile(l, (6,3))\n",
    "print(l)\n",
    "\n",
    "# Alternative\n",
    "#l = np.zeros((1,6)).reshape(-1,1)\n",
    "#l = np.hstack ((l, l+1, l+2, l, l+1, l+2, l+3, l, l+1, l+2, l+3))\n",
    "#print(l)\n",
    "\n",
    "# Alternative #2\n",
    "#l = np.array ((0,1,2))\n",
    "#l = np.hstack ([l]*3)\n",
    "#l = np.vstack ([l]*6)"
   ]
  },
  {
   "cell_type": "markdown",
   "id": "9bf45c09-461b-4537-92fa-5098ef9bcc0c",
   "metadata": {},
   "source": [
    "#### Target 28\n",
    "```\n",
    "[[0 0 0 0 0 0]\n",
    " [0 1 1 1 1 1]\n",
    " [0 1 2 2 2 2]\n",
    " [0 1 2 3 3 3]\n",
    " [0 1 2 3 4 4]\n",
    " [0 1 2 3 4 5]]"
   ]
  },
  {
   "cell_type": "code",
   "execution_count": 152,
   "id": "60a506c4-5201-4851-b7f3-ecb7d88afc54",
   "metadata": {},
   "outputs": [
    {
     "name": "stdout",
     "output_type": "stream",
     "text": [
      "[[0 0 0 0 0 0]\n",
      " [0 1 1 1 1 1]\n",
      " [0 1 2 2 2 2]\n",
      " [0 1 2 3 3 3]\n",
      " [0 1 2 3 4 4]\n",
      " [0 1 2 3 4 5]]\n"
     ]
    }
   ],
   "source": [
    "i, j = np.indices((6,6))\n",
    "m = np.minimum(i,j)\n",
    "print(m)"
   ]
  },
  {
   "cell_type": "markdown",
   "id": "9206899d-c601-4798-a1fb-9539b5448258",
   "metadata": {},
   "source": [
    "#### Target 29\n",
    "```\n",
    "[[0 1 2 3 4]\n",
    " [1 2 3 4 5]\n",
    " [2 3 4 5 6]\n",
    " [3 4 5 6 7]\n",
    " [4 5 6 7 8]]"
   ]
  },
  {
   "cell_type": "code",
   "execution_count": 169,
   "id": "8a67f31a-20f7-4586-a355-1c3f1978e1c1",
   "metadata": {},
   "outputs": [
    {
     "name": "stdout",
     "output_type": "stream",
     "text": [
      "[[0. 1. 2. 3. 4.]\n",
      " [1. 2. 3. 4. 5.]\n",
      " [2. 3. 4. 5. 6.]\n",
      " [3. 4. 5. 6. 7.]\n",
      " [4. 5. 6. 7. 8.]]\n"
     ]
    }
   ],
   "source": [
    "i, j = np.indices ((5,5))\n",
    "n[i,j] = j+i\n",
    "print(n)"
   ]
  },
  {
   "cell_type": "markdown",
   "id": "d4a9c98f-c9cb-4931-a83e-827283c18413",
   "metadata": {},
   "source": [
    "#### Target 30\n",
    "```\n",
    "[[ 4 -1 -1  0  0  0]\n",
    " [-1  4 -1 -1  0  0]\n",
    " [-1 -1  4 -1 -1  0]\n",
    " [ 0 -1 -1  4 -1 -1]\n",
    " [ 0  0 -1 -1  4 -1]\n",
    " [ 0  0  0 -1 -1  4]]"
   ]
  },
  {
   "cell_type": "code",
   "execution_count": 171,
   "id": "fddd1cdf-6942-4365-a4e2-a6d4f6c53c78",
   "metadata": {},
   "outputs": [
    {
     "name": "stdout",
     "output_type": "stream",
     "text": [
      "[[ 4. -1. -1.  0.  0.  0.]\n",
      " [-1.  4. -1. -1.  0.  0.]\n",
      " [-1. -1.  4. -1. -1.  0.]\n",
      " [ 0. -1. -1.  4. -1. -1.]\n",
      " [ 0.  0. -1. -1.  4. -1.]\n",
      " [ 0.  0.  0. -1. -1.  4.]]\n"
     ]
    }
   ],
   "source": [
    "o = 4*np.eye(6) - np.eye(6, k=-1) - np.eye(6, k=-2) - np.eye(6, k=1) - np.eye(6, k=2)\n",
    "print(o)"
   ]
  },
  {
   "cell_type": "markdown",
   "id": "790f5b7f-ea86-4ca4-a504-c0493af15de6",
   "metadata": {},
   "source": [
    "#### Target 31\n",
    "```\n",
    "[[0 1 2 3 4 5 6]\n",
    " [1 0 1 2 3 4 5]\n",
    " [2 1 0 1 2 3 4]\n",
    " [3 2 1 0 1 2 3]\n",
    " [4 3 2 1 0 1 2]\n",
    " [5 4 3 2 1 0 1]\n",
    " [6 5 4 3 2 1 0]]"
   ]
  },
  {
   "cell_type": "code",
   "execution_count": 24,
   "id": "59b71335-3afc-47f4-9d80-be5dfa908a17",
   "metadata": {},
   "outputs": [
    {
     "name": "stdout",
     "output_type": "stream",
     "text": [
      "[[0. 1. 2. 3. 4. 5. 6.]\n",
      " [1. 0. 1. 2. 3. 4. 5.]\n",
      " [2. 1. 0. 1. 2. 3. 4.]\n",
      " [3. 2. 1. 0. 1. 2. 3.]\n",
      " [4. 3. 2. 1. 0. 1. 2.]\n",
      " [5. 4. 3. 2. 1. 0. 1.]\n",
      " [6. 5. 4. 3. 2. 1. 0.]]\n"
     ]
    }
   ],
   "source": [
    "p = np.zeros((7,7))\n",
    "for i in range(p.shape[0]):\n",
    "    p += i*np.eye(p.shape[0], k=i)\n",
    "    p += i*np.eye(p.shape[0], k=-i)\n",
    "print(p)"
   ]
  },
  {
   "cell_type": "markdown",
   "id": "4d28987d-1885-46b9-b735-442c20e93f18",
   "metadata": {},
   "source": [
    "#### Target 31\n",
    "```\n",
    "[[0 0 0 0 0 0 0 0]\n",
    " [0 1 1 1 1 1 1 0]\n",
    " [0 1 2 2 2 2 1 0]\n",
    " [0 1 2 3 3 2 1 0]\n",
    " [0 1 2 3 3 2 1 0]\n",
    " [0 1 2 2 2 2 1 0]\n",
    " [0 1 1 1 1 1 1 0]\n",
    " [0 0 0 0 0 0 0 0]]"
   ]
  },
  {
   "cell_type": "code",
   "execution_count": 19,
   "id": "7880d170-ecb8-4d69-bf01-84c3370fdd54",
   "metadata": {},
   "outputs": [
    {
     "name": "stdout",
     "output_type": "stream",
     "text": [
      "[[0. 0. 0. 0. 0. 0. 0. 0.]\n",
      " [0. 1. 1. 1. 1. 1. 1. 0.]\n",
      " [0. 1. 2. 2. 2. 2. 1. 0.]\n",
      " [0. 1. 2. 3. 3. 2. 1. 0.]\n",
      " [0. 1. 2. 3. 3. 2. 1. 0.]\n",
      " [0. 1. 2. 2. 2. 2. 1. 0.]\n",
      " [0. 1. 1. 1. 1. 1. 1. 0.]\n",
      " [0. 0. 0. 0. 0. 0. 0. 0.]]\n"
     ]
    }
   ],
   "source": [
    "a = np.zeros ((8,8))\n",
    "i, j = np.indices(np.shape(a))\n",
    "a[i,j] = np.minimum.reduce ([i, j, a.shape[0]-i-1, a.shape[1]-j-1])\n",
    "print(a)"
   ]
  },
  {
   "cell_type": "code",
   "execution_count": null,
   "id": "bde7b49e-9188-4732-a9c5-849101debec3",
   "metadata": {},
   "outputs": [],
   "source": []
  }
 ],
 "metadata": {
  "kernelspec": {
   "display_name": "Python [conda env:base] *",
   "language": "python",
   "name": "conda-base-py"
  },
  "language_info": {
   "codemirror_mode": {
    "name": "ipython",
    "version": 3
   },
   "file_extension": ".py",
   "mimetype": "text/x-python",
   "name": "python",
   "nbconvert_exporter": "python",
   "pygments_lexer": "ipython3",
   "version": "3.13.5"
  }
 },
 "nbformat": 4,
 "nbformat_minor": 5
}
