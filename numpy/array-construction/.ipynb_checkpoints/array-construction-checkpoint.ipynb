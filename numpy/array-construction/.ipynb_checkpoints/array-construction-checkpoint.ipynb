{
 "cells": [
  {
   "cell_type": "markdown",
   "id": "78dc11f4-2532-407b-92f5-1443d4069cce",
   "metadata": {},
   "source": [
    "## Set of array-construction exercises in NumPY\n",
    "This notebook shows my solutions to array-construction exercises in NumPy.  \n",
    "Markdown cells show the target matrices; code cells show my solution.\n",
    "\n",
    "Constraints: \n",
    "- no for loops,\n",
    "- only NumPy functions (zeros, ones, eye, diag, arange, reshape, linspace, slicing, indexing, ...)\n",
    "\n"
   ]
  },
  {
   "cell_type": "code",
   "execution_count": 32,
   "id": "bfb3537d-7246-4f1a-80aa-80531bfa3116",
   "metadata": {},
   "outputs": [],
   "source": [
    "import numpy as np"
   ]
  },
  {
   "cell_type": "markdown",
   "id": "ce68709d-575c-492f-b520-448e1daca222",
   "metadata": {},
   "source": [
    "#### Target 01\n",
    "```\n",
    "[[1 2 3 4 5 6]]"
   ]
  },
  {
   "cell_type": "code",
   "execution_count": 33,
   "id": "b9986a47-68a6-4c0e-a185-451605c95f8c",
   "metadata": {},
   "outputs": [
    {
     "name": "stdout",
     "output_type": "stream",
     "text": [
      "[1 2 3 4 5 6]\n"
     ]
    }
   ],
   "source": [
    "import numpy as np\n",
    "a=np.arange(1,7)\n",
    "print(a)"
   ]
  },
  {
   "cell_type": "markdown",
   "id": "c20166f9-c1c2-4c76-b7d8-e79308f3875e",
   "metadata": {},
   "source": [
    "#### Target 02\n",
    "```\n",
    "[[1]\n",
    " [2]\n",
    " [3]\n",
    " [4]\n",
    " [5]\n",
    " [6]]"
   ]
  },
  {
   "cell_type": "code",
   "execution_count": 34,
   "id": "a9d59aee-7df7-4ff5-87d2-38e4e4a18a0a",
   "metadata": {},
   "outputs": [
    {
     "name": "stdout",
     "output_type": "stream",
     "text": [
      "[[1]\n",
      " [2]\n",
      " [3]\n",
      " [4]\n",
      " [5]\n",
      " [6]]\n"
     ]
    }
   ],
   "source": [
    "b=np.arange(1,7)\n",
    "b=b.reshape(-1,1)\n",
    "print(b)"
   ]
  },
  {
   "cell_type": "markdown",
   "id": "36e317b3-3602-438c-8ec0-0204da258b2a",
   "metadata": {},
   "source": [
    "#### Target 03\n",
    "```\n",
    "[[0 1 0 0 0]\n",
    " [0 0 1 0 0]\n",
    " [0 0 0 1 0]\n",
    " [0 0 0 0 1]\n",
    " [0 0 0 0 0]]"
   ]
  },
  {
   "cell_type": "code",
   "execution_count": 35,
   "id": "f991441d-8db1-40df-981c-255ee6eb72a8",
   "metadata": {},
   "outputs": [
    {
     "name": "stdout",
     "output_type": "stream",
     "text": [
      "[[0. 1. 0. 0. 0.]\n",
      " [0. 0. 1. 0. 0.]\n",
      " [0. 0. 0. 1. 0.]\n",
      " [0. 0. 0. 0. 1.]\n",
      " [0. 0. 0. 0. 0.]]\n"
     ]
    }
   ],
   "source": [
    "c=np.eye(5,k=1)\n",
    "print(c)"
   ]
  },
  {
   "cell_type": "markdown",
   "id": "53e20955-a75e-4ce8-afdf-396f0ca57d49",
   "metadata": {},
   "source": [
    "#### Target 04\n",
    "```\n",
    "[[1 0 0 0]\n",
    " [0 2 0 0]\n",
    " [0 0 3 0]\n",
    " [0 0 0 4]]"
   ]
  },
  {
   "cell_type": "code",
   "execution_count": 36,
   "id": "2bbf799c-e240-4ac2-8b8d-5db87b480034",
   "metadata": {},
   "outputs": [
    {
     "name": "stdout",
     "output_type": "stream",
     "text": [
      "[[1 0 0 0]\n",
      " [0 2 0 0]\n",
      " [0 0 3 0]\n",
      " [0 0 0 4]]\n"
     ]
    }
   ],
   "source": [
    "d = np.diag((1,2,3,4))\n",
    "print(d)"
   ]
  },
  {
   "cell_type": "markdown",
   "id": "ade32999-cde4-44b8-b81f-0f525f4f0c92",
   "metadata": {},
   "source": [
    "#### Target 05\n",
    "```\n",
    "[[0 0 0 1]\n",
    " [0 0 2 0]\n",
    " [0 3 0 0]\n",
    " [4 0 0 0]]"
   ]
  },
  {
   "cell_type": "code",
   "execution_count": 37,
   "id": "de858520-ddde-4f74-a299-bec5fe066b14",
   "metadata": {},
   "outputs": [
    {
     "name": "stdout",
     "output_type": "stream",
     "text": [
      "[[0. 0. 0. 1.]\n",
      " [0. 0. 2. 0.]\n",
      " [0. 3. 0. 0.]\n",
      " [4. 0. 0. 0.]]\n"
     ]
    }
   ],
   "source": [
    "e=np.zeros((4,4))\n",
    "for i in range(4):\n",
    "    e[i,3-i]=i+1\n",
    "print(e)"
   ]
  },
  {
   "cell_type": "markdown",
   "id": "06846587-3274-4e27-a7fd-759da5b4d779",
   "metadata": {},
   "source": [
    "#### Target 06\n",
    "```\n",
    "[[0 1 0 1 0 1]\n",
    " [1 0 1 0 1 0]\n",
    " [0 1 0 1 0 1]\n",
    " [1 0 1 0 1 0]\n",
    " [0 1 0 1 0 1]\n",
    " [1 0 1 0 1 0]]"
   ]
  },
  {
   "cell_type": "code",
   "execution_count": 38,
   "id": "5fd38422-32fc-4b08-971c-e7c4474f2206",
   "metadata": {},
   "outputs": [
    {
     "name": "stdout",
     "output_type": "stream",
     "text": [
      "[[0. 1. 0. 1. 0. 1.]\n",
      " [1. 0. 1. 0. 1. 0.]\n",
      " [0. 1. 0. 1. 0. 1.]\n",
      " [1. 0. 1. 0. 1. 0.]\n",
      " [0. 1. 0. 1. 0. 1.]\n",
      " [1. 0. 1. 0. 1. 0.]]\n"
     ]
    }
   ],
   "source": [
    "f = np.zeros((6,6))\n",
    "f[0::2, 1::2]=1\n",
    "f[1::2, 0::2]=1\n",
    "print(f)"
   ]
  },
  {
   "cell_type": "markdown",
   "id": "852e0278-2a88-4efc-b71c-a2955b062964",
   "metadata": {},
   "source": [
    "#### Target 07\n",
    "```\n",
    "[[0 0 0 0 0]\n",
    " [1 1 1 1 1]\n",
    " [2 2 2 2 2]\n",
    " [3 3 3 3 3]\n",
    " [4 4 4 4 4]]"
   ]
  },
  {
   "cell_type": "code",
   "execution_count": 39,
   "id": "3130186d-976b-4a16-b32c-f6ccaac52d11",
   "metadata": {},
   "outputs": [
    {
     "name": "stdout",
     "output_type": "stream",
     "text": [
      "[[0. 0. 0. 0. 0.]\n",
      " [1. 1. 1. 1. 1.]\n",
      " [2. 2. 2. 2. 2.]\n",
      " [3. 3. 3. 3. 3.]\n",
      " [4. 4. 4. 4. 4.]]\n"
     ]
    }
   ],
   "source": [
    "g = np.zeros((5,5))\n",
    "for i in range(g.shape[0]):\n",
    "    g[i::]=i\n",
    "print(g)"
   ]
  },
  {
   "cell_type": "markdown",
   "id": "8dab5bde-9a79-45de-a171-4e68c7e82083",
   "metadata": {},
   "source": [
    "#### Target 08\n",
    "```\n",
    "[[0 1 2 3 4]\n",
    " [0 1 2 3 4]\n",
    " [0 1 2 3 4]\n",
    " [0 1 2 3 4]\n",
    " [0 1 2 3 4]]"
   ]
  },
  {
   "cell_type": "code",
   "execution_count": 40,
   "id": "5c47f3ac-ec70-43d8-b581-2d8687591205",
   "metadata": {},
   "outputs": [
    {
     "name": "stdout",
     "output_type": "stream",
     "text": [
      "[[0. 1. 2. 3. 4.]\n",
      " [0. 1. 2. 3. 4.]\n",
      " [0. 1. 2. 3. 4.]\n",
      " [0. 1. 2. 3. 4.]\n",
      " [0. 1. 2. 3. 4.]]\n"
     ]
    }
   ],
   "source": [
    "h = np.zeros((5,5))\n",
    "for i in range(h.shape[0]):\n",
    "    h[:,i::] = i\n",
    "print(h)"
   ]
  },
  {
   "cell_type": "markdown",
   "id": "9901caed-30f1-447d-b1bb-3f2ae57691f2",
   "metadata": {},
   "source": [
    "#### Target 09\n",
    "```\n",
    "[[10 11 12 13 14]\n",
    " [15 16 17 18 19]\n",
    " [20 21 22 23 24]]"
   ]
  },
  {
   "cell_type": "code",
   "execution_count": 41,
   "id": "9db39dae-c09c-4c94-a349-0ac4278aec67",
   "metadata": {},
   "outputs": [
    {
     "name": "stdout",
     "output_type": "stream",
     "text": [
      "[[10 11 12 13 14]\n",
      " [15 16 17 18 19]\n",
      " [20 21 22 23 24]]\n"
     ]
    }
   ],
   "source": [
    "j = np.arange (10,25)\n",
    "j = np.reshape(j,(3,5))\n",
    "print(j)"
   ]
  },
  {
   "cell_type": "markdown",
   "id": "c42b4507-9448-4d27-aa39-25c807e2814a",
   "metadata": {},
   "source": [
    "#### Target 10\n",
    "```\n",
    "[[ 0  1  2  3  4  5]\n",
    " [ 6  7  8  9 10 11]\n",
    " [12 13 14 15 16 17]]"
   ]
  },
  {
   "cell_type": "code",
   "execution_count": 42,
   "id": "ceb706aa-8edc-43fd-9092-6b9f51b0a1bd",
   "metadata": {},
   "outputs": [
    {
     "name": "stdout",
     "output_type": "stream",
     "text": [
      "[[ 0  1  2  3  4  5]\n",
      " [ 6  7  8  9 10 11]\n",
      " [12 13 14 15 16 17]]\n"
     ]
    }
   ],
   "source": [
    "k = np.arange (0,18)\n",
    "k= np.reshape (k, (3,6))\n",
    "print(k)"
   ]
  },
  {
   "cell_type": "markdown",
   "id": "9d2e1d7e-e873-423f-bbea-a9f55d59e08e",
   "metadata": {},
   "source": [
    "#### Target 11\n",
    "```\n",
    "[[ 0  6 12]\n",
    " [ 1  7 13]\n",
    " [ 2  8 14]\n",
    " [ 3  9 15]\n",
    " [ 4 10 16]\n",
    " [ 5 11 17]]"
   ]
  },
  {
   "cell_type": "code",
   "execution_count": 43,
   "id": "355d07e1-ac51-4e27-a745-d4dfb4c05013",
   "metadata": {},
   "outputs": [
    {
     "name": "stdout",
     "output_type": "stream",
     "text": [
      "[[ 0.  6. 12.]\n",
      " [ 1.  7. 13.]\n",
      " [ 2.  8. 14.]\n",
      " [ 3.  9. 15.]\n",
      " [ 4. 10. 16.]\n",
      " [ 5. 11. 17.]]\n"
     ]
    }
   ],
   "source": [
    "l = np.zeros ((6,3))\n",
    "l[:,0] = range(0,6)\n",
    "l[:,1] = range(6,12)\n",
    "l[:,2] = range(12,18)\n",
    "print(l)"
   ]
  },
  {
   "cell_type": "markdown",
   "id": "382d6cd0-c72e-4b60-820f-c748dac02aa3",
   "metadata": {},
   "source": [
    "#### Target 12\n",
    "```\n",
    "[[1 1 1 1 1]\n",
    " [1 0 0 0 1]\n",
    " [1 0 0 0 1]\n",
    " [1 0 0 0 1]\n",
    " [1 1 1 1 1]]"
   ]
  },
  {
   "cell_type": "code",
   "execution_count": 44,
   "id": "c9bd9332-d88d-48fe-8a25-19df835ed568",
   "metadata": {},
   "outputs": [
    {
     "name": "stdout",
     "output_type": "stream",
     "text": [
      "[[1. 1. 1. 1. 1.]\n",
      " [1. 0. 0. 0. 1.]\n",
      " [1. 0. 0. 0. 1.]\n",
      " [1. 0. 0. 0. 1.]\n",
      " [1. 1. 1. 1. 1.]]\n"
     ]
    }
   ],
   "source": [
    "m = np.zeros ((5,5))\n",
    "m[0,:]=1\n",
    "m[4,:]=1\n",
    "m[:,0]=1\n",
    "m[:,4]=1\n",
    "print(m)"
   ]
  },
  {
   "cell_type": "markdown",
   "id": "69119d99-a79e-43f4-9d14-3e9f06a205aa",
   "metadata": {},
   "source": [
    "#### Target 13\n",
    "```\n",
    "[[0 0 0 0 0]\n",
    " [0 1 1 1 0]\n",
    " [0 1 1 1 0]\n",
    " [0 1 1 1 0]\n",
    " [0 0 0 0 0]]"
   ]
  },
  {
   "cell_type": "code",
   "execution_count": 45,
   "id": "dbaaf3d9-4bde-43f1-a593-f6adf45263bd",
   "metadata": {},
   "outputs": [
    {
     "name": "stdout",
     "output_type": "stream",
     "text": [
      "[[0. 0. 0. 0. 0.]\n",
      " [0. 1. 1. 1. 0.]\n",
      " [0. 1. 1. 1. 0.]\n",
      " [0. 1. 1. 1. 0.]\n",
      " [0. 0. 0. 0. 0.]]\n"
     ]
    }
   ],
   "source": [
    "n = np.ones ((5,5))\n",
    "n[0::4, :]=0\n",
    "n[:, 0::4]=0\n",
    "print(n)"
   ]
  },
  {
   "cell_type": "markdown",
   "id": "53a782bb-6ea5-4831-9ee9-fd39c900db08",
   "metadata": {},
   "source": [
    "#### Target 14\n",
    "```\n",
    "[[0 0 1 0 0]\n",
    " [0 0 1 0 0]\n",
    " [1 1 1 1 1]\n",
    " [0 0 1 0 0]\n",
    " [0 0 1 0 0]]"
   ]
  },
  {
   "cell_type": "code",
   "execution_count": 46,
   "id": "e7072b04-d568-42a7-a0a8-386114f70d3b",
   "metadata": {},
   "outputs": [
    {
     "name": "stdout",
     "output_type": "stream",
     "text": [
      "[[0. 0. 1. 0. 0.]\n",
      " [0. 0. 1. 0. 0.]\n",
      " [1. 1. 1. 1. 1.]\n",
      " [0. 0. 1. 0. 0.]\n",
      " [0. 0. 1. 0. 0.]]\n"
     ]
    }
   ],
   "source": [
    "o = np.zeros ((5,5))\n",
    "o[2,:]=1\n",
    "o[:,2]=1\n",
    "print(o)"
   ]
  },
  {
   "cell_type": "markdown",
   "id": "e27f4924-4897-425c-8c47-aef37b6a7727",
   "metadata": {},
   "source": [
    "#### Target 15\n",
    "```\n",
    "[[1 0 0 0 1]\n",
    " [0 1 0 1 0]\n",
    " [0 0 1 0 0]\n",
    " [0 1 0 1 0]\n",
    " [1 0 0 0 1]]"
   ]
  },
  {
   "cell_type": "code",
   "execution_count": 47,
   "id": "988b4fef-8f69-41a2-bc39-affab472a896",
   "metadata": {},
   "outputs": [
    {
     "name": "stdout",
     "output_type": "stream",
     "text": [
      "[[1. 0. 0. 0. 1.]\n",
      " [0. 1. 0. 1. 0.]\n",
      " [0. 0. 1. 0. 0.]\n",
      " [0. 1. 0. 1. 0.]\n",
      " [1. 0. 0. 0. 1.]]\n"
     ]
    }
   ],
   "source": [
    "p = np.zeros((5,5))\n",
    "for i in range(p.shape[0]):\n",
    "    p[i,i]=1\n",
    "    p[i,p.shape[0]-1-i]=1\n",
    "print(p)"
   ]
  },
  {
   "cell_type": "markdown",
   "id": "450f692c-640f-4bed-b90f-9f291e0f3716",
   "metadata": {},
   "source": [
    "#### Target 16\n",
    "```\n",
    "[[0 0 0 0]\n",
    " [7 0 0 0]\n",
    " [0 7 0 0]\n",
    " [0 0 7 0]\n",
    " [0 0 0 7]]"
   ]
  },
  {
   "cell_type": "code",
   "execution_count": 48,
   "id": "1e4d928e-6d2c-489b-a559-40ead2bebb88",
   "metadata": {},
   "outputs": [
    {
     "name": "stdout",
     "output_type": "stream",
     "text": [
      "[[0. 0. 0. 0.]\n",
      " [7. 0. 0. 0.]\n",
      " [0. 7. 0. 0.]\n",
      " [0. 0. 7. 0.]\n",
      " [0. 0. 0. 7.]]\n"
     ]
    }
   ],
   "source": [
    "q = np.eye(5,4,-1)\n",
    "q[q!=0]=7\n",
    "print(q)"
   ]
  },
  {
   "cell_type": "markdown",
   "id": "3f3fa92a-c2aa-4adf-8049-c86ac349ebd9",
   "metadata": {},
   "source": [
    "#### Target 17\n",
    "```\n",
    "[[ 0  1  2  3  4]\n",
    " [10 11 12 13 14]\n",
    " [20 21 22 23 24]\n",
    " [30 31 32 33 34]]"
   ]
  },
  {
   "cell_type": "code",
   "execution_count": 49,
   "id": "f17af281-3565-4c4c-999a-afd70370a09f",
   "metadata": {},
   "outputs": [
    {
     "name": "stdout",
     "output_type": "stream",
     "text": [
      "[[ 0  1  2  3  4]\n",
      " [10 11 12 13 14]\n",
      " [20 21 22 23 24]\n",
      " [30 31 32 33 34]]\n"
     ]
    }
   ],
   "source": [
    "r = np.arange(5)\n",
    "r = np.vstack ((r, r+10, r+20, r+30))\n",
    "print(r)"
   ]
  },
  {
   "cell_type": "markdown",
   "id": "5e5bff96-b29d-410e-9886-066c7a673bdf",
   "metadata": {},
   "source": [
    "#### Target 18\n",
    "```\n",
    "[[0.   0.25 0.5  0.75 1.  ]\n",
    " [0.   0.25 0.5  0.75 1.  ]\n",
    " [0.   0.25 0.5  0.75 1.  ]]"
   ]
  },
  {
   "cell_type": "code",
   "execution_count": 50,
   "id": "9ca7ed57-91aa-45fd-a4f6-d2c8c2469ae6",
   "metadata": {},
   "outputs": [
    {
     "name": "stdout",
     "output_type": "stream",
     "text": [
      "[[0.   0.25 0.5  0.75 1.  ]\n",
      " [0.   0.25 0.5  0.75 1.  ]\n",
      " [0.   0.25 0.5  0.75 1.  ]]\n"
     ]
    }
   ],
   "source": [
    "s = np.linspace (0,1,num=5,dtype=float)\n",
    "s = np.vstack((s,s,s))\n",
    "print(s)"
   ]
  },
  {
   "cell_type": "markdown",
   "id": "da62a036-16e9-489a-aebd-3bc53cb616c2",
   "metadata": {},
   "source": [
    "### Target 19\n",
    "```\n",
    "[[ 2 -1  0  0  0  0]\n",
    " [-1  2 -1  0  0  0]\n",
    " [ 0 -1  2 -1  0  0]\n",
    " [ 0  0 -1  2 -1  0]\n",
    " [ 0  0  0 -1  2 -1]\n",
    " [ 0  0  0  0 -1  2]]"
   ]
  },
  {
   "cell_type": "code",
   "execution_count": 51,
   "id": "c4247839-f2af-4fa8-a81c-cf0704820a1a",
   "metadata": {},
   "outputs": [
    {
     "name": "stdout",
     "output_type": "stream",
     "text": [
      "[[1. 1. 1. 2. 2. 2.]\n",
      " [1. 1. 1. 2. 2. 2.]\n",
      " [1. 1. 1. 2. 2. 2.]\n",
      " [0. 0. 0. 3. 0. 0.]\n",
      " [0. 0. 0. 0. 3. 0.]\n",
      " [0. 0. 0. 0. 0. 3.]]\n"
     ]
    }
   ],
   "source": [
    "top_left = np.ones((3,3))\n",
    "top_right = np.full((3,3),2)\n",
    "top = np.hstack ((top_left, top_right))\n",
    "bottom = np.eye (3,6,k=3)\n",
    "bottom[bottom!=0]=3\n",
    "M = np.vstack ((top, bottom))\n",
    "print(M)"
   ]
  },
  {
   "cell_type": "markdown",
   "id": "d0ab25b1-af22-478c-b503-49b3d09f903e",
   "metadata": {},
   "source": [
    "#### Target 20\n",
    "```\n",
    "[[1 1 1 2 2 2]\n",
    " [1 1 1 2 2 2]\n",
    " [1 1 1 2 2 2]\n",
    " [0 0 0 3 0 0]\n",
    " [0 0 0 0 3 0]\n",
    " [0 0 0 0 0 3]]"
   ]
  },
  {
   "cell_type": "code",
   "execution_count": 52,
   "id": "08fdbc27-6980-4019-b319-53a10685ed2a",
   "metadata": {},
   "outputs": [
    {
     "name": "stdout",
     "output_type": "stream",
     "text": [
      "[[1. 1. 1. 2. 2. 2.]\n",
      " [1. 1. 1. 2. 2. 2.]\n",
      " [1. 1. 1. 2. 2. 2.]\n",
      " [0. 0. 0. 3. 0. 0.]\n",
      " [0. 0. 0. 0. 3. 0.]\n",
      " [0. 0. 0. 0. 0. 3.]]\n"
     ]
    }
   ],
   "source": [
    "top_left = np.ones((3,3))\n",
    "top_right = np.full((3,3),2)\n",
    "top = np.hstack ((top_left, top_right))\n",
    "bottom = np.eye (3,6,k=3)\n",
    "bottom[bottom!=0]=3\n",
    "M = np.vstack ((top, bottom))\n",
    "print(M)"
   ]
  }
 ],
 "metadata": {
  "kernelspec": {
   "display_name": "Python [conda env:base] *",
   "language": "python",
   "name": "conda-base-py"
  },
  "language_info": {
   "codemirror_mode": {
    "name": "ipython",
    "version": 3
   },
   "file_extension": ".py",
   "mimetype": "text/x-python",
   "name": "python",
   "nbconvert_exporter": "python",
   "pygments_lexer": "ipython3",
   "version": "3.13.5"
  }
 },
 "nbformat": 4,
 "nbformat_minor": 5
}
